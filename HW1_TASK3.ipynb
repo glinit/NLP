{
 "cells": [
  {
   "cell_type": "markdown",
   "metadata": {},
   "source": [
    "## HW1_TASK3"
   ]
  },
  {
   "cell_type": "markdown",
   "metadata": {},
   "source": [
    "## Experiment"
   ]
  },
  {
   "cell_type": "code",
   "execution_count": 62,
   "metadata": {},
   "outputs": [],
   "source": [
    "#same text\n",
    "text = u'John met Susan in the mall. She told him that she is traveling to Europe next week.'"
   ]
  },
  {
   "cell_type": "markdown",
   "metadata": {},
   "source": [
    "we use pycorenlp as Wrapper to wrap API from Stanfordcorenlp\n",
    "First make sure you have the Stanford CoreNLP server running. See the instructions https://stanfordnlp.github.io/CoreNLP/corenlp-server.html#getting-started for how to do that."
   ]
  },
  {
   "cell_type": "code",
   "execution_count": 2,
   "metadata": {},
   "outputs": [],
   "source": [
    "from pycorenlp import StanfordCoreNLP\n",
    "nlp = StanfordCoreNLP('http://localhost:9000')\n",
    "import re\n",
    "import numpy as np"
   ]
  },
  {
   "cell_type": "code",
   "execution_count": 3,
   "metadata": {},
   "outputs": [],
   "source": [
    "#annotators for corenlp\n",
    "annotators = ['pos', 'ner', 'depparse', 'lemma', 'parse', 'dcoref']\n",
    "disp = dict()\n",
    "for annotator in annotators:\n",
    "    disp[annotator] = nlp.annotate(text, properties={'annotators': annotator, 'outputFormat': 'json'})"
   ]
  },
  {
   "cell_type": "code",
   "execution_count": 4,
   "metadata": {},
   "outputs": [
    {
     "name": "stdout",
     "output_type": "stream",
     "text": [
      "{'sentences': [{'index': 0, 'tokens': [{'index': 1, 'word': 'John', 'originalText': 'John', 'characterOffsetBegin': 0, 'characterOffsetEnd': 4, 'pos': 'NNP', 'before': '', 'after': ' '}, {'index': 2, 'word': 'met', 'originalText': 'met', 'characterOffsetBegin': 5, 'characterOffsetEnd': 8, 'pos': 'VBD', 'before': ' ', 'after': ' '}, {'index': 3, 'word': 'Susan', 'originalText': 'Susan', 'characterOffsetBegin': 9, 'characterOffsetEnd': 14, 'pos': 'NNP', 'before': ' ', 'after': ' '}, {'index': 4, 'word': 'in', 'originalText': 'in', 'characterOffsetBegin': 15, 'characterOffsetEnd': 17, 'pos': 'IN', 'before': ' ', 'after': ' '}, {'index': 5, 'word': 'the', 'originalText': 'the', 'characterOffsetBegin': 18, 'characterOffsetEnd': 21, 'pos': 'DT', 'before': ' ', 'after': ' '}, {'index': 6, 'word': 'mall', 'originalText': 'mall', 'characterOffsetBegin': 22, 'characterOffsetEnd': 26, 'pos': 'NN', 'before': ' ', 'after': ''}, {'index': 7, 'word': '.', 'originalText': '.', 'characterOffsetBegin': 26, 'characterOffsetEnd': 27, 'pos': '.', 'before': '', 'after': ' '}]}, {'index': 1, 'tokens': [{'index': 1, 'word': 'She', 'originalText': 'She', 'characterOffsetBegin': 28, 'characterOffsetEnd': 31, 'pos': 'PRP', 'before': ' ', 'after': ' '}, {'index': 2, 'word': 'told', 'originalText': 'told', 'characterOffsetBegin': 32, 'characterOffsetEnd': 36, 'pos': 'VBD', 'before': ' ', 'after': ' '}, {'index': 3, 'word': 'him', 'originalText': 'him', 'characterOffsetBegin': 37, 'characterOffsetEnd': 40, 'pos': 'PRP', 'before': ' ', 'after': ' '}, {'index': 4, 'word': 'that', 'originalText': 'that', 'characterOffsetBegin': 41, 'characterOffsetEnd': 45, 'pos': 'IN', 'before': ' ', 'after': ' '}, {'index': 5, 'word': 'she', 'originalText': 'she', 'characterOffsetBegin': 46, 'characterOffsetEnd': 49, 'pos': 'PRP', 'before': ' ', 'after': ' '}, {'index': 6, 'word': 'is', 'originalText': 'is', 'characterOffsetBegin': 50, 'characterOffsetEnd': 52, 'pos': 'VBZ', 'before': ' ', 'after': ' '}, {'index': 7, 'word': 'traveling', 'originalText': 'traveling', 'characterOffsetBegin': 53, 'characterOffsetEnd': 62, 'pos': 'VBG', 'before': ' ', 'after': ' '}, {'index': 8, 'word': 'to', 'originalText': 'to', 'characterOffsetBegin': 63, 'characterOffsetEnd': 65, 'pos': 'TO', 'before': ' ', 'after': ' '}, {'index': 9, 'word': 'Europe', 'originalText': 'Europe', 'characterOffsetBegin': 66, 'characterOffsetEnd': 72, 'pos': 'NNP', 'before': ' ', 'after': ' '}, {'index': 10, 'word': 'next', 'originalText': 'next', 'characterOffsetBegin': 73, 'characterOffsetEnd': 77, 'pos': 'IN', 'before': ' ', 'after': ' '}, {'index': 11, 'word': 'week', 'originalText': 'week', 'characterOffsetBegin': 78, 'characterOffsetEnd': 82, 'pos': 'NN', 'before': ' ', 'after': ''}, {'index': 12, 'word': '.', 'originalText': '.', 'characterOffsetBegin': 82, 'characterOffsetEnd': 83, 'pos': '.', 'before': '', 'after': ''}]}]}\n"
     ]
    }
   ],
   "source": [
    "#pos\n",
    "print(disp['pos'])"
   ]
  },
  {
   "cell_type": "code",
   "execution_count": 6,
   "metadata": {},
   "outputs": [
    {
     "name": "stdout",
     "output_type": "stream",
     "text": [
      "{'sentences': [{'index': 0, 'parse': '(ROOT\\n  (S\\n    (NP (NNP John))\\n    (VP (VBD met)\\n      (NP\\n        (NP (NNP Susan))\\n        (PP (IN in)\\n          (NP (DT the) (NN mall)))))\\n    (. .)))', 'basicDependencies': [{'dep': 'ROOT', 'governor': 0, 'governorGloss': 'ROOT', 'dependent': 2, 'dependentGloss': 'met'}, {'dep': 'nsubj', 'governor': 2, 'governorGloss': 'met', 'dependent': 1, 'dependentGloss': 'John'}, {'dep': 'dobj', 'governor': 2, 'governorGloss': 'met', 'dependent': 3, 'dependentGloss': 'Susan'}, {'dep': 'case', 'governor': 6, 'governorGloss': 'mall', 'dependent': 4, 'dependentGloss': 'in'}, {'dep': 'det', 'governor': 6, 'governorGloss': 'mall', 'dependent': 5, 'dependentGloss': 'the'}, {'dep': 'nmod', 'governor': 3, 'governorGloss': 'Susan', 'dependent': 6, 'dependentGloss': 'mall'}, {'dep': 'punct', 'governor': 2, 'governorGloss': 'met', 'dependent': 7, 'dependentGloss': '.'}], 'enhancedDependencies': [{'dep': 'ROOT', 'governor': 0, 'governorGloss': 'ROOT', 'dependent': 2, 'dependentGloss': 'met'}, {'dep': 'nsubj', 'governor': 2, 'governorGloss': 'met', 'dependent': 1, 'dependentGloss': 'John'}, {'dep': 'dobj', 'governor': 2, 'governorGloss': 'met', 'dependent': 3, 'dependentGloss': 'Susan'}, {'dep': 'case', 'governor': 6, 'governorGloss': 'mall', 'dependent': 4, 'dependentGloss': 'in'}, {'dep': 'det', 'governor': 6, 'governorGloss': 'mall', 'dependent': 5, 'dependentGloss': 'the'}, {'dep': 'nmod:in', 'governor': 3, 'governorGloss': 'Susan', 'dependent': 6, 'dependentGloss': 'mall'}, {'dep': 'punct', 'governor': 2, 'governorGloss': 'met', 'dependent': 7, 'dependentGloss': '.'}], 'enhancedPlusPlusDependencies': [{'dep': 'ROOT', 'governor': 0, 'governorGloss': 'ROOT', 'dependent': 2, 'dependentGloss': 'met'}, {'dep': 'nsubj', 'governor': 2, 'governorGloss': 'met', 'dependent': 1, 'dependentGloss': 'John'}, {'dep': 'dobj', 'governor': 2, 'governorGloss': 'met', 'dependent': 3, 'dependentGloss': 'Susan'}, {'dep': 'case', 'governor': 6, 'governorGloss': 'mall', 'dependent': 4, 'dependentGloss': 'in'}, {'dep': 'det', 'governor': 6, 'governorGloss': 'mall', 'dependent': 5, 'dependentGloss': 'the'}, {'dep': 'nmod:in', 'governor': 3, 'governorGloss': 'Susan', 'dependent': 6, 'dependentGloss': 'mall'}, {'dep': 'punct', 'governor': 2, 'governorGloss': 'met', 'dependent': 7, 'dependentGloss': '.'}], 'entitymentions': [{'docTokenBegin': 0, 'docTokenEnd': 1, 'tokenBegin': 0, 'tokenEnd': 1, 'text': 'John', 'characterOffsetBegin': 0, 'characterOffsetEnd': 4, 'ner': 'PERSON'}, {'docTokenBegin': 2, 'docTokenEnd': 3, 'tokenBegin': 2, 'tokenEnd': 3, 'text': 'Susan', 'characterOffsetBegin': 9, 'characterOffsetEnd': 14, 'ner': 'PERSON'}], 'tokens': [{'index': 1, 'word': 'John', 'originalText': 'John', 'lemma': 'John', 'characterOffsetBegin': 0, 'characterOffsetEnd': 4, 'pos': 'NNP', 'ner': 'PERSON', 'speaker': 'PER0', 'before': '', 'after': ' '}, {'index': 2, 'word': 'met', 'originalText': 'met', 'lemma': 'meet', 'characterOffsetBegin': 5, 'characterOffsetEnd': 8, 'pos': 'VBD', 'ner': 'O', 'speaker': 'PER0', 'before': ' ', 'after': ' '}, {'index': 3, 'word': 'Susan', 'originalText': 'Susan', 'lemma': 'Susan', 'characterOffsetBegin': 9, 'characterOffsetEnd': 14, 'pos': 'NNP', 'ner': 'PERSON', 'speaker': 'PER0', 'before': ' ', 'after': ' '}, {'index': 4, 'word': 'in', 'originalText': 'in', 'lemma': 'in', 'characterOffsetBegin': 15, 'characterOffsetEnd': 17, 'pos': 'IN', 'ner': 'O', 'speaker': 'PER0', 'before': ' ', 'after': ' '}, {'index': 5, 'word': 'the', 'originalText': 'the', 'lemma': 'the', 'characterOffsetBegin': 18, 'characterOffsetEnd': 21, 'pos': 'DT', 'ner': 'O', 'speaker': 'PER0', 'before': ' ', 'after': ' '}, {'index': 6, 'word': 'mall', 'originalText': 'mall', 'lemma': 'mall', 'characterOffsetBegin': 22, 'characterOffsetEnd': 26, 'pos': 'NN', 'ner': 'O', 'speaker': 'PER0', 'before': ' ', 'after': ''}, {'index': 7, 'word': '.', 'originalText': '.', 'lemma': '.', 'characterOffsetBegin': 26, 'characterOffsetEnd': 27, 'pos': '.', 'ner': 'O', 'speaker': 'PER0', 'before': '', 'after': ' '}]}, {'index': 1, 'parse': '(ROOT\\n  (S\\n    (NP (PRP She))\\n    (VP (VBD told)\\n      (NP (PRP him))\\n      (SBAR (IN that)\\n        (S\\n          (NP (PRP she))\\n          (VP (VBZ is)\\n            (VP (VBG traveling)\\n              (PP (TO to)\\n                (NP (NNP Europe)))\\n              (PP (IN next)\\n                (NP (NN week))))))))\\n    (. .)))', 'basicDependencies': [{'dep': 'ROOT', 'governor': 0, 'governorGloss': 'ROOT', 'dependent': 2, 'dependentGloss': 'told'}, {'dep': 'nsubj', 'governor': 2, 'governorGloss': 'told', 'dependent': 1, 'dependentGloss': 'She'}, {'dep': 'dobj', 'governor': 2, 'governorGloss': 'told', 'dependent': 3, 'dependentGloss': 'him'}, {'dep': 'mark', 'governor': 7, 'governorGloss': 'traveling', 'dependent': 4, 'dependentGloss': 'that'}, {'dep': 'nsubj', 'governor': 7, 'governorGloss': 'traveling', 'dependent': 5, 'dependentGloss': 'she'}, {'dep': 'aux', 'governor': 7, 'governorGloss': 'traveling', 'dependent': 6, 'dependentGloss': 'is'}, {'dep': 'ccomp', 'governor': 2, 'governorGloss': 'told', 'dependent': 7, 'dependentGloss': 'traveling'}, {'dep': 'case', 'governor': 9, 'governorGloss': 'Europe', 'dependent': 8, 'dependentGloss': 'to'}, {'dep': 'nmod', 'governor': 7, 'governorGloss': 'traveling', 'dependent': 9, 'dependentGloss': 'Europe'}, {'dep': 'case', 'governor': 11, 'governorGloss': 'week', 'dependent': 10, 'dependentGloss': 'next'}, {'dep': 'nmod', 'governor': 7, 'governorGloss': 'traveling', 'dependent': 11, 'dependentGloss': 'week'}, {'dep': 'punct', 'governor': 2, 'governorGloss': 'told', 'dependent': 12, 'dependentGloss': '.'}], 'enhancedDependencies': [{'dep': 'ROOT', 'governor': 0, 'governorGloss': 'ROOT', 'dependent': 2, 'dependentGloss': 'told'}, {'dep': 'nsubj', 'governor': 2, 'governorGloss': 'told', 'dependent': 1, 'dependentGloss': 'She'}, {'dep': 'dobj', 'governor': 2, 'governorGloss': 'told', 'dependent': 3, 'dependentGloss': 'him'}, {'dep': 'mark', 'governor': 7, 'governorGloss': 'traveling', 'dependent': 4, 'dependentGloss': 'that'}, {'dep': 'nsubj', 'governor': 7, 'governorGloss': 'traveling', 'dependent': 5, 'dependentGloss': 'she'}, {'dep': 'aux', 'governor': 7, 'governorGloss': 'traveling', 'dependent': 6, 'dependentGloss': 'is'}, {'dep': 'ccomp', 'governor': 2, 'governorGloss': 'told', 'dependent': 7, 'dependentGloss': 'traveling'}, {'dep': 'case', 'governor': 9, 'governorGloss': 'Europe', 'dependent': 8, 'dependentGloss': 'to'}, {'dep': 'nmod:to', 'governor': 7, 'governorGloss': 'traveling', 'dependent': 9, 'dependentGloss': 'Europe'}, {'dep': 'case', 'governor': 11, 'governorGloss': 'week', 'dependent': 10, 'dependentGloss': 'next'}, {'dep': 'nmod:next', 'governor': 7, 'governorGloss': 'traveling', 'dependent': 11, 'dependentGloss': 'week'}, {'dep': 'punct', 'governor': 2, 'governorGloss': 'told', 'dependent': 12, 'dependentGloss': '.'}], 'enhancedPlusPlusDependencies': [{'dep': 'ROOT', 'governor': 0, 'governorGloss': 'ROOT', 'dependent': 2, 'dependentGloss': 'told'}, {'dep': 'nsubj', 'governor': 2, 'governorGloss': 'told', 'dependent': 1, 'dependentGloss': 'She'}, {'dep': 'dobj', 'governor': 2, 'governorGloss': 'told', 'dependent': 3, 'dependentGloss': 'him'}, {'dep': 'mark', 'governor': 7, 'governorGloss': 'traveling', 'dependent': 4, 'dependentGloss': 'that'}, {'dep': 'nsubj', 'governor': 7, 'governorGloss': 'traveling', 'dependent': 5, 'dependentGloss': 'she'}, {'dep': 'aux', 'governor': 7, 'governorGloss': 'traveling', 'dependent': 6, 'dependentGloss': 'is'}, {'dep': 'ccomp', 'governor': 2, 'governorGloss': 'told', 'dependent': 7, 'dependentGloss': 'traveling'}, {'dep': 'case', 'governor': 9, 'governorGloss': 'Europe', 'dependent': 8, 'dependentGloss': 'to'}, {'dep': 'nmod:to', 'governor': 7, 'governorGloss': 'traveling', 'dependent': 9, 'dependentGloss': 'Europe'}, {'dep': 'case', 'governor': 11, 'governorGloss': 'week', 'dependent': 10, 'dependentGloss': 'next'}, {'dep': 'nmod:next', 'governor': 7, 'governorGloss': 'traveling', 'dependent': 11, 'dependentGloss': 'week'}, {'dep': 'punct', 'governor': 2, 'governorGloss': 'told', 'dependent': 12, 'dependentGloss': '.'}], 'entitymentions': [{'docTokenBegin': 15, 'docTokenEnd': 16, 'tokenBegin': 8, 'tokenEnd': 9, 'text': 'Europe', 'characterOffsetBegin': 66, 'characterOffsetEnd': 72, 'ner': 'LOCATION'}, {'docTokenBegin': 16, 'docTokenEnd': 18, 'tokenBegin': 9, 'tokenEnd': 11, 'text': 'next week', 'characterOffsetBegin': 73, 'characterOffsetEnd': 82, 'ner': 'DATE', 'normalizedNER': 'THIS P1W OFFSET P1W', 'timex': {'tid': 't1', 'type': 'DATE', 'altValue': 'THIS P1W OFFSET P1W'}}, {'docTokenBegin': 7, 'docTokenEnd': 8, 'tokenBegin': 0, 'tokenEnd': 1, 'text': 'She', 'characterOffsetBegin': 28, 'characterOffsetEnd': 31, 'ner': 'PERSON'}, {'docTokenBegin': 9, 'docTokenEnd': 10, 'tokenBegin': 2, 'tokenEnd': 3, 'text': 'him', 'characterOffsetBegin': 37, 'characterOffsetEnd': 40, 'ner': 'PERSON'}, {'docTokenBegin': 11, 'docTokenEnd': 12, 'tokenBegin': 4, 'tokenEnd': 5, 'text': 'she', 'characterOffsetBegin': 46, 'characterOffsetEnd': 49, 'ner': 'PERSON'}], 'tokens': [{'index': 1, 'word': 'She', 'originalText': 'She', 'lemma': 'she', 'characterOffsetBegin': 28, 'characterOffsetEnd': 31, 'pos': 'PRP', 'ner': 'O', 'speaker': 'PER0', 'before': ' ', 'after': ' '}, {'index': 2, 'word': 'told', 'originalText': 'told', 'lemma': 'tell', 'characterOffsetBegin': 32, 'characterOffsetEnd': 36, 'pos': 'VBD', 'ner': 'O', 'speaker': 'PER0', 'before': ' ', 'after': ' '}, {'index': 3, 'word': 'him', 'originalText': 'him', 'lemma': 'he', 'characterOffsetBegin': 37, 'characterOffsetEnd': 40, 'pos': 'PRP', 'ner': 'O', 'speaker': 'PER0', 'before': ' ', 'after': ' '}, {'index': 4, 'word': 'that', 'originalText': 'that', 'lemma': 'that', 'characterOffsetBegin': 41, 'characterOffsetEnd': 45, 'pos': 'IN', 'ner': 'O', 'speaker': 'PER0', 'before': ' ', 'after': ' '}, {'index': 5, 'word': 'she', 'originalText': 'she', 'lemma': 'she', 'characterOffsetBegin': 46, 'characterOffsetEnd': 49, 'pos': 'PRP', 'ner': 'O', 'speaker': 'PER0', 'before': ' ', 'after': ' '}, {'index': 6, 'word': 'is', 'originalText': 'is', 'lemma': 'be', 'characterOffsetBegin': 50, 'characterOffsetEnd': 52, 'pos': 'VBZ', 'ner': 'O', 'speaker': 'PER0', 'before': ' ', 'after': ' '}, {'index': 7, 'word': 'traveling', 'originalText': 'traveling', 'lemma': 'travel', 'characterOffsetBegin': 53, 'characterOffsetEnd': 62, 'pos': 'VBG', 'ner': 'O', 'speaker': 'PER0', 'before': ' ', 'after': ' '}, {'index': 8, 'word': 'to', 'originalText': 'to', 'lemma': 'to', 'characterOffsetBegin': 63, 'characterOffsetEnd': 65, 'pos': 'TO', 'ner': 'O', 'speaker': 'PER0', 'before': ' ', 'after': ' '}, {'index': 9, 'word': 'Europe', 'originalText': 'Europe', 'lemma': 'Europe', 'characterOffsetBegin': 66, 'characterOffsetEnd': 72, 'pos': 'NNP', 'ner': 'LOCATION', 'speaker': 'PER0', 'before': ' ', 'after': ' '}, {'index': 10, 'word': 'next', 'originalText': 'next', 'lemma': 'next', 'characterOffsetBegin': 73, 'characterOffsetEnd': 77, 'pos': 'IN', 'ner': 'DATE', 'normalizedNER': 'THIS P1W OFFSET P1W', 'speaker': 'PER0', 'before': ' ', 'after': ' ', 'timex': {'tid': 't1', 'type': 'DATE', 'altValue': 'THIS P1W OFFSET P1W'}}, {'index': 11, 'word': 'week', 'originalText': 'week', 'lemma': 'week', 'characterOffsetBegin': 78, 'characterOffsetEnd': 82, 'pos': 'NN', 'ner': 'DATE', 'normalizedNER': 'THIS P1W OFFSET P1W', 'speaker': 'PER0', 'before': ' ', 'after': '', 'timex': {'tid': 't1', 'type': 'DATE', 'altValue': 'THIS P1W OFFSET P1W'}}, {'index': 12, 'word': '.', 'originalText': '.', 'lemma': '.', 'characterOffsetBegin': 82, 'characterOffsetEnd': 83, 'pos': '.', 'ner': 'O', 'speaker': 'PER0', 'before': '', 'after': ''}]}], 'corefs': {'1': [{'id': 1, 'text': 'John', 'type': 'PROPER', 'number': 'SINGULAR', 'gender': 'MALE', 'animacy': 'ANIMATE', 'startIndex': 1, 'endIndex': 2, 'headIndex': 1, 'sentNum': 1, 'position': [1, 1], 'isRepresentativeMention': True}, {'id': 6, 'text': 'him', 'type': 'PRONOMINAL', 'number': 'SINGULAR', 'gender': 'MALE', 'animacy': 'ANIMATE', 'startIndex': 3, 'endIndex': 4, 'headIndex': 3, 'sentNum': 2, 'position': [2, 2], 'isRepresentativeMention': False}], '2': [{'id': 2, 'text': 'Susan in the mall', 'type': 'PROPER', 'number': 'SINGULAR', 'gender': 'FEMALE', 'animacy': 'ANIMATE', 'startIndex': 3, 'endIndex': 7, 'headIndex': 3, 'sentNum': 1, 'position': [1, 2], 'isRepresentativeMention': True}, {'id': 5, 'text': 'She', 'type': 'PRONOMINAL', 'number': 'SINGULAR', 'gender': 'FEMALE', 'animacy': 'ANIMATE', 'startIndex': 1, 'endIndex': 2, 'headIndex': 1, 'sentNum': 2, 'position': [2, 1], 'isRepresentativeMention': False}, {'id': 7, 'text': 'she', 'type': 'PRONOMINAL', 'number': 'SINGULAR', 'gender': 'FEMALE', 'animacy': 'ANIMATE', 'startIndex': 5, 'endIndex': 6, 'headIndex': 5, 'sentNum': 2, 'position': [2, 3], 'isRepresentativeMention': False}], '3': [{'id': 3, 'text': 'the mall', 'type': 'NOMINAL', 'number': 'SINGULAR', 'gender': 'NEUTRAL', 'animacy': 'INANIMATE', 'startIndex': 5, 'endIndex': 7, 'headIndex': 6, 'sentNum': 1, 'position': [1, 3], 'isRepresentativeMention': True}], '4': [{'id': 4, 'text': 'Europe', 'type': 'PROPER', 'number': 'SINGULAR', 'gender': 'NEUTRAL', 'animacy': 'INANIMATE', 'startIndex': 9, 'endIndex': 10, 'headIndex': 9, 'sentNum': 2, 'position': [2, 4], 'isRepresentativeMention': True}], '8': [{'id': 8, 'text': 'week', 'type': 'PROPER', 'number': 'SINGULAR', 'gender': 'UNKNOWN', 'animacy': 'INANIMATE', 'startIndex': 11, 'endIndex': 12, 'headIndex': 11, 'sentNum': 2, 'position': [2, 5], 'isRepresentativeMention': True}]}}\n"
     ]
    }
   ],
   "source": [
    "#dcoref\n",
    "print(disp['dcoref'])"
   ]
  },
  {
   "cell_type": "code",
   "execution_count": 7,
   "metadata": {},
   "outputs": [
    {
     "name": "stdout",
     "output_type": "stream",
     "text": [
      "{'sentences': [{'index': 0, 'tokens': [{'index': 1, 'word': 'John', 'originalText': 'John', 'lemma': 'John', 'characterOffsetBegin': 0, 'characterOffsetEnd': 4, 'pos': 'NNP', 'before': '', 'after': ' '}, {'index': 2, 'word': 'met', 'originalText': 'met', 'lemma': 'meet', 'characterOffsetBegin': 5, 'characterOffsetEnd': 8, 'pos': 'VBD', 'before': ' ', 'after': ' '}, {'index': 3, 'word': 'Susan', 'originalText': 'Susan', 'lemma': 'Susan', 'characterOffsetBegin': 9, 'characterOffsetEnd': 14, 'pos': 'NNP', 'before': ' ', 'after': ' '}, {'index': 4, 'word': 'in', 'originalText': 'in', 'lemma': 'in', 'characterOffsetBegin': 15, 'characterOffsetEnd': 17, 'pos': 'IN', 'before': ' ', 'after': ' '}, {'index': 5, 'word': 'the', 'originalText': 'the', 'lemma': 'the', 'characterOffsetBegin': 18, 'characterOffsetEnd': 21, 'pos': 'DT', 'before': ' ', 'after': ' '}, {'index': 6, 'word': 'mall', 'originalText': 'mall', 'lemma': 'mall', 'characterOffsetBegin': 22, 'characterOffsetEnd': 26, 'pos': 'NN', 'before': ' ', 'after': ''}, {'index': 7, 'word': '.', 'originalText': '.', 'lemma': '.', 'characterOffsetBegin': 26, 'characterOffsetEnd': 27, 'pos': '.', 'before': '', 'after': ' '}]}, {'index': 1, 'tokens': [{'index': 1, 'word': 'She', 'originalText': 'She', 'lemma': 'she', 'characterOffsetBegin': 28, 'characterOffsetEnd': 31, 'pos': 'PRP', 'before': ' ', 'after': ' '}, {'index': 2, 'word': 'told', 'originalText': 'told', 'lemma': 'tell', 'characterOffsetBegin': 32, 'characterOffsetEnd': 36, 'pos': 'VBD', 'before': ' ', 'after': ' '}, {'index': 3, 'word': 'him', 'originalText': 'him', 'lemma': 'he', 'characterOffsetBegin': 37, 'characterOffsetEnd': 40, 'pos': 'PRP', 'before': ' ', 'after': ' '}, {'index': 4, 'word': 'that', 'originalText': 'that', 'lemma': 'that', 'characterOffsetBegin': 41, 'characterOffsetEnd': 45, 'pos': 'IN', 'before': ' ', 'after': ' '}, {'index': 5, 'word': 'she', 'originalText': 'she', 'lemma': 'she', 'characterOffsetBegin': 46, 'characterOffsetEnd': 49, 'pos': 'PRP', 'before': ' ', 'after': ' '}, {'index': 6, 'word': 'is', 'originalText': 'is', 'lemma': 'be', 'characterOffsetBegin': 50, 'characterOffsetEnd': 52, 'pos': 'VBZ', 'before': ' ', 'after': ' '}, {'index': 7, 'word': 'traveling', 'originalText': 'traveling', 'lemma': 'travel', 'characterOffsetBegin': 53, 'characterOffsetEnd': 62, 'pos': 'VBG', 'before': ' ', 'after': ' '}, {'index': 8, 'word': 'to', 'originalText': 'to', 'lemma': 'to', 'characterOffsetBegin': 63, 'characterOffsetEnd': 65, 'pos': 'TO', 'before': ' ', 'after': ' '}, {'index': 9, 'word': 'Europe', 'originalText': 'Europe', 'lemma': 'Europe', 'characterOffsetBegin': 66, 'characterOffsetEnd': 72, 'pos': 'NNP', 'before': ' ', 'after': ' '}, {'index': 10, 'word': 'next', 'originalText': 'next', 'lemma': 'next', 'characterOffsetBegin': 73, 'characterOffsetEnd': 77, 'pos': 'IN', 'before': ' ', 'after': ' '}, {'index': 11, 'word': 'week', 'originalText': 'week', 'lemma': 'week', 'characterOffsetBegin': 78, 'characterOffsetEnd': 82, 'pos': 'NN', 'before': ' ', 'after': ''}, {'index': 12, 'word': '.', 'originalText': '.', 'lemma': '.', 'characterOffsetBegin': 82, 'characterOffsetEnd': 83, 'pos': '.', 'before': '', 'after': ''}]}]}\n"
     ]
    }
   ],
   "source": [
    "#lemma\n",
    "print(disp['lemma'])"
   ]
  },
  {
   "cell_type": "code",
   "execution_count": 8,
   "metadata": {},
   "outputs": [
    {
     "name": "stdout",
     "output_type": "stream",
     "text": [
      "[{'index': 0, 'tokens': [{'index': 1, 'word': 'John', 'originalText': 'John', 'characterOffsetBegin': 0, 'characterOffsetEnd': 4, 'pos': 'NNP', 'before': '', 'after': ' '}, {'index': 2, 'word': 'met', 'originalText': 'met', 'characterOffsetBegin': 5, 'characterOffsetEnd': 8, 'pos': 'VBD', 'before': ' ', 'after': ' '}, {'index': 3, 'word': 'Susan', 'originalText': 'Susan', 'characterOffsetBegin': 9, 'characterOffsetEnd': 14, 'pos': 'NNP', 'before': ' ', 'after': ' '}, {'index': 4, 'word': 'in', 'originalText': 'in', 'characterOffsetBegin': 15, 'characterOffsetEnd': 17, 'pos': 'IN', 'before': ' ', 'after': ' '}, {'index': 5, 'word': 'the', 'originalText': 'the', 'characterOffsetBegin': 18, 'characterOffsetEnd': 21, 'pos': 'DT', 'before': ' ', 'after': ' '}, {'index': 6, 'word': 'mall', 'originalText': 'mall', 'characterOffsetBegin': 22, 'characterOffsetEnd': 26, 'pos': 'NN', 'before': ' ', 'after': ''}, {'index': 7, 'word': '.', 'originalText': '.', 'characterOffsetBegin': 26, 'characterOffsetEnd': 27, 'pos': '.', 'before': '', 'after': ' '}]}, {'index': 1, 'tokens': [{'index': 1, 'word': 'She', 'originalText': 'She', 'characterOffsetBegin': 28, 'characterOffsetEnd': 31, 'pos': 'PRP', 'before': ' ', 'after': ' '}, {'index': 2, 'word': 'told', 'originalText': 'told', 'characterOffsetBegin': 32, 'characterOffsetEnd': 36, 'pos': 'VBD', 'before': ' ', 'after': ' '}, {'index': 3, 'word': 'him', 'originalText': 'him', 'characterOffsetBegin': 37, 'characterOffsetEnd': 40, 'pos': 'PRP', 'before': ' ', 'after': ' '}, {'index': 4, 'word': 'that', 'originalText': 'that', 'characterOffsetBegin': 41, 'characterOffsetEnd': 45, 'pos': 'IN', 'before': ' ', 'after': ' '}, {'index': 5, 'word': 'she', 'originalText': 'she', 'characterOffsetBegin': 46, 'characterOffsetEnd': 49, 'pos': 'PRP', 'before': ' ', 'after': ' '}, {'index': 6, 'word': 'is', 'originalText': 'is', 'characterOffsetBegin': 50, 'characterOffsetEnd': 52, 'pos': 'VBZ', 'before': ' ', 'after': ' '}, {'index': 7, 'word': 'traveling', 'originalText': 'traveling', 'characterOffsetBegin': 53, 'characterOffsetEnd': 62, 'pos': 'VBG', 'before': ' ', 'after': ' '}, {'index': 8, 'word': 'to', 'originalText': 'to', 'characterOffsetBegin': 63, 'characterOffsetEnd': 65, 'pos': 'TO', 'before': ' ', 'after': ' '}, {'index': 9, 'word': 'Europe', 'originalText': 'Europe', 'characterOffsetBegin': 66, 'characterOffsetEnd': 72, 'pos': 'NNP', 'before': ' ', 'after': ' '}, {'index': 10, 'word': 'next', 'originalText': 'next', 'characterOffsetBegin': 73, 'characterOffsetEnd': 77, 'pos': 'IN', 'before': ' ', 'after': ' '}, {'index': 11, 'word': 'week', 'originalText': 'week', 'characterOffsetBegin': 78, 'characterOffsetEnd': 82, 'pos': 'NN', 'before': ' ', 'after': ''}, {'index': 12, 'word': '.', 'originalText': '.', 'characterOffsetBegin': 82, 'characterOffsetEnd': 83, 'pos': '.', 'before': '', 'after': ''}]}]\n"
     ]
    }
   ],
   "source": [
    "#sentences in POS\n",
    "print(disp['pos']['sentences'])"
   ]
  },
  {
   "cell_type": "code",
   "execution_count": 9,
   "metadata": {},
   "outputs": [
    {
     "name": "stdout",
     "output_type": "stream",
     "text": [
      "{'sentences': [{'index': 0, 'entitymentions': [{'docTokenBegin': 0, 'docTokenEnd': 1, 'tokenBegin': 0, 'tokenEnd': 1, 'text': 'John', 'characterOffsetBegin': 0, 'characterOffsetEnd': 4, 'ner': 'PERSON'}, {'docTokenBegin': 2, 'docTokenEnd': 3, 'tokenBegin': 2, 'tokenEnd': 3, 'text': 'Susan', 'characterOffsetBegin': 9, 'characterOffsetEnd': 14, 'ner': 'PERSON'}], 'tokens': [{'index': 1, 'word': 'John', 'originalText': 'John', 'lemma': 'John', 'characterOffsetBegin': 0, 'characterOffsetEnd': 4, 'pos': 'NNP', 'ner': 'PERSON', 'before': '', 'after': ' '}, {'index': 2, 'word': 'met', 'originalText': 'met', 'lemma': 'meet', 'characterOffsetBegin': 5, 'characterOffsetEnd': 8, 'pos': 'VBD', 'ner': 'O', 'before': ' ', 'after': ' '}, {'index': 3, 'word': 'Susan', 'originalText': 'Susan', 'lemma': 'Susan', 'characterOffsetBegin': 9, 'characterOffsetEnd': 14, 'pos': 'NNP', 'ner': 'PERSON', 'before': ' ', 'after': ' '}, {'index': 4, 'word': 'in', 'originalText': 'in', 'lemma': 'in', 'characterOffsetBegin': 15, 'characterOffsetEnd': 17, 'pos': 'IN', 'ner': 'O', 'before': ' ', 'after': ' '}, {'index': 5, 'word': 'the', 'originalText': 'the', 'lemma': 'the', 'characterOffsetBegin': 18, 'characterOffsetEnd': 21, 'pos': 'DT', 'ner': 'O', 'before': ' ', 'after': ' '}, {'index': 6, 'word': 'mall', 'originalText': 'mall', 'lemma': 'mall', 'characterOffsetBegin': 22, 'characterOffsetEnd': 26, 'pos': 'NN', 'ner': 'O', 'before': ' ', 'after': ''}, {'index': 7, 'word': '.', 'originalText': '.', 'lemma': '.', 'characterOffsetBegin': 26, 'characterOffsetEnd': 27, 'pos': '.', 'ner': 'O', 'before': '', 'after': ' '}]}, {'index': 1, 'entitymentions': [{'docTokenBegin': 15, 'docTokenEnd': 16, 'tokenBegin': 8, 'tokenEnd': 9, 'text': 'Europe', 'characterOffsetBegin': 66, 'characterOffsetEnd': 72, 'ner': 'LOCATION'}, {'docTokenBegin': 16, 'docTokenEnd': 18, 'tokenBegin': 9, 'tokenEnd': 11, 'text': 'next week', 'characterOffsetBegin': 73, 'characterOffsetEnd': 82, 'ner': 'DATE', 'normalizedNER': 'THIS P1W OFFSET P1W', 'timex': {'tid': 't1', 'type': 'DATE', 'altValue': 'THIS P1W OFFSET P1W'}}, {'docTokenBegin': 7, 'docTokenEnd': 8, 'tokenBegin': 0, 'tokenEnd': 1, 'text': 'She', 'characterOffsetBegin': 28, 'characterOffsetEnd': 31, 'ner': 'PERSON'}, {'docTokenBegin': 9, 'docTokenEnd': 10, 'tokenBegin': 2, 'tokenEnd': 3, 'text': 'him', 'characterOffsetBegin': 37, 'characterOffsetEnd': 40, 'ner': 'PERSON'}, {'docTokenBegin': 11, 'docTokenEnd': 12, 'tokenBegin': 4, 'tokenEnd': 5, 'text': 'she', 'characterOffsetBegin': 46, 'characterOffsetEnd': 49, 'ner': 'PERSON'}], 'tokens': [{'index': 1, 'word': 'She', 'originalText': 'She', 'lemma': 'she', 'characterOffsetBegin': 28, 'characterOffsetEnd': 31, 'pos': 'PRP', 'ner': 'O', 'before': ' ', 'after': ' '}, {'index': 2, 'word': 'told', 'originalText': 'told', 'lemma': 'tell', 'characterOffsetBegin': 32, 'characterOffsetEnd': 36, 'pos': 'VBD', 'ner': 'O', 'before': ' ', 'after': ' '}, {'index': 3, 'word': 'him', 'originalText': 'him', 'lemma': 'he', 'characterOffsetBegin': 37, 'characterOffsetEnd': 40, 'pos': 'PRP', 'ner': 'O', 'before': ' ', 'after': ' '}, {'index': 4, 'word': 'that', 'originalText': 'that', 'lemma': 'that', 'characterOffsetBegin': 41, 'characterOffsetEnd': 45, 'pos': 'IN', 'ner': 'O', 'before': ' ', 'after': ' '}, {'index': 5, 'word': 'she', 'originalText': 'she', 'lemma': 'she', 'characterOffsetBegin': 46, 'characterOffsetEnd': 49, 'pos': 'PRP', 'ner': 'O', 'before': ' ', 'after': ' '}, {'index': 6, 'word': 'is', 'originalText': 'is', 'lemma': 'be', 'characterOffsetBegin': 50, 'characterOffsetEnd': 52, 'pos': 'VBZ', 'ner': 'O', 'before': ' ', 'after': ' '}, {'index': 7, 'word': 'traveling', 'originalText': 'traveling', 'lemma': 'travel', 'characterOffsetBegin': 53, 'characterOffsetEnd': 62, 'pos': 'VBG', 'ner': 'O', 'before': ' ', 'after': ' '}, {'index': 8, 'word': 'to', 'originalText': 'to', 'lemma': 'to', 'characterOffsetBegin': 63, 'characterOffsetEnd': 65, 'pos': 'TO', 'ner': 'O', 'before': ' ', 'after': ' '}, {'index': 9, 'word': 'Europe', 'originalText': 'Europe', 'lemma': 'Europe', 'characterOffsetBegin': 66, 'characterOffsetEnd': 72, 'pos': 'NNP', 'ner': 'LOCATION', 'before': ' ', 'after': ' '}, {'index': 10, 'word': 'next', 'originalText': 'next', 'lemma': 'next', 'characterOffsetBegin': 73, 'characterOffsetEnd': 77, 'pos': 'IN', 'ner': 'DATE', 'normalizedNER': 'THIS P1W OFFSET P1W', 'before': ' ', 'after': ' ', 'timex': {'tid': 't1', 'type': 'DATE', 'altValue': 'THIS P1W OFFSET P1W'}}, {'index': 11, 'word': 'week', 'originalText': 'week', 'lemma': 'week', 'characterOffsetBegin': 78, 'characterOffsetEnd': 82, 'pos': 'NN', 'ner': 'DATE', 'normalizedNER': 'THIS P1W OFFSET P1W', 'before': ' ', 'after': '', 'timex': {'tid': 't1', 'type': 'DATE', 'altValue': 'THIS P1W OFFSET P1W'}}, {'index': 12, 'word': '.', 'originalText': '.', 'lemma': '.', 'characterOffsetBegin': 82, 'characterOffsetEnd': 83, 'pos': '.', 'ner': 'O', 'before': '', 'after': ''}]}]}\n"
     ]
    }
   ],
   "source": [
    "print(disp['ner'])"
   ]
  },
  {
   "cell_type": "markdown",
   "metadata": {},
   "source": [
    " We take the ner as a typical NLP features for instance, and find out how to vectorize it."
   ]
  },
  {
   "cell_type": "code",
   "execution_count": 46,
   "metadata": {},
   "outputs": [
    {
     "data": {
      "text/plain": [
       "{'sentences': [{'index': 0,\n",
       "   'entitymentions': [{'docTokenBegin': 0,\n",
       "     'docTokenEnd': 1,\n",
       "     'tokenBegin': 0,\n",
       "     'tokenEnd': 1,\n",
       "     'text': 'John',\n",
       "     'characterOffsetBegin': 0,\n",
       "     'characterOffsetEnd': 4,\n",
       "     'ner': 'PERSON'},\n",
       "    {'docTokenBegin': 2,\n",
       "     'docTokenEnd': 3,\n",
       "     'tokenBegin': 2,\n",
       "     'tokenEnd': 3,\n",
       "     'text': 'Susan',\n",
       "     'characterOffsetBegin': 9,\n",
       "     'characterOffsetEnd': 14,\n",
       "     'ner': 'PERSON'}],\n",
       "   'tokens': [{'index': 1,\n",
       "     'word': 'John',\n",
       "     'originalText': 'John',\n",
       "     'lemma': 'John',\n",
       "     'characterOffsetBegin': 0,\n",
       "     'characterOffsetEnd': 4,\n",
       "     'pos': 'NNP',\n",
       "     'ner': 'PERSON',\n",
       "     'before': '',\n",
       "     'after': ' '},\n",
       "    {'index': 2,\n",
       "     'word': 'met',\n",
       "     'originalText': 'met',\n",
       "     'lemma': 'meet',\n",
       "     'characterOffsetBegin': 5,\n",
       "     'characterOffsetEnd': 8,\n",
       "     'pos': 'VBD',\n",
       "     'ner': 'O',\n",
       "     'before': ' ',\n",
       "     'after': ' '},\n",
       "    {'index': 3,\n",
       "     'word': 'Susan',\n",
       "     'originalText': 'Susan',\n",
       "     'lemma': 'Susan',\n",
       "     'characterOffsetBegin': 9,\n",
       "     'characterOffsetEnd': 14,\n",
       "     'pos': 'NNP',\n",
       "     'ner': 'PERSON',\n",
       "     'before': ' ',\n",
       "     'after': ' '},\n",
       "    {'index': 4,\n",
       "     'word': 'in',\n",
       "     'originalText': 'in',\n",
       "     'lemma': 'in',\n",
       "     'characterOffsetBegin': 15,\n",
       "     'characterOffsetEnd': 17,\n",
       "     'pos': 'IN',\n",
       "     'ner': 'O',\n",
       "     'before': ' ',\n",
       "     'after': ' '},\n",
       "    {'index': 5,\n",
       "     'word': 'the',\n",
       "     'originalText': 'the',\n",
       "     'lemma': 'the',\n",
       "     'characterOffsetBegin': 18,\n",
       "     'characterOffsetEnd': 21,\n",
       "     'pos': 'DT',\n",
       "     'ner': 'O',\n",
       "     'before': ' ',\n",
       "     'after': ' '},\n",
       "    {'index': 6,\n",
       "     'word': 'mall',\n",
       "     'originalText': 'mall',\n",
       "     'lemma': 'mall',\n",
       "     'characterOffsetBegin': 22,\n",
       "     'characterOffsetEnd': 26,\n",
       "     'pos': 'NN',\n",
       "     'ner': 'O',\n",
       "     'before': ' ',\n",
       "     'after': ''},\n",
       "    {'index': 7,\n",
       "     'word': '.',\n",
       "     'originalText': '.',\n",
       "     'lemma': '.',\n",
       "     'characterOffsetBegin': 26,\n",
       "     'characterOffsetEnd': 27,\n",
       "     'pos': '.',\n",
       "     'ner': 'O',\n",
       "     'before': '',\n",
       "     'after': ' '}]},\n",
       "  {'index': 1,\n",
       "   'entitymentions': [{'docTokenBegin': 15,\n",
       "     'docTokenEnd': 16,\n",
       "     'tokenBegin': 8,\n",
       "     'tokenEnd': 9,\n",
       "     'text': 'Europe',\n",
       "     'characterOffsetBegin': 66,\n",
       "     'characterOffsetEnd': 72,\n",
       "     'ner': 'LOCATION'},\n",
       "    {'docTokenBegin': 16,\n",
       "     'docTokenEnd': 18,\n",
       "     'tokenBegin': 9,\n",
       "     'tokenEnd': 11,\n",
       "     'text': 'next week',\n",
       "     'characterOffsetBegin': 73,\n",
       "     'characterOffsetEnd': 82,\n",
       "     'ner': 'DATE',\n",
       "     'normalizedNER': 'THIS P1W OFFSET P1W',\n",
       "     'timex': {'tid': 't1',\n",
       "      'type': 'DATE',\n",
       "      'altValue': 'THIS P1W OFFSET P1W'}},\n",
       "    {'docTokenBegin': 7,\n",
       "     'docTokenEnd': 8,\n",
       "     'tokenBegin': 0,\n",
       "     'tokenEnd': 1,\n",
       "     'text': 'She',\n",
       "     'characterOffsetBegin': 28,\n",
       "     'characterOffsetEnd': 31,\n",
       "     'ner': 'PERSON'},\n",
       "    {'docTokenBegin': 9,\n",
       "     'docTokenEnd': 10,\n",
       "     'tokenBegin': 2,\n",
       "     'tokenEnd': 3,\n",
       "     'text': 'him',\n",
       "     'characterOffsetBegin': 37,\n",
       "     'characterOffsetEnd': 40,\n",
       "     'ner': 'PERSON'},\n",
       "    {'docTokenBegin': 11,\n",
       "     'docTokenEnd': 12,\n",
       "     'tokenBegin': 4,\n",
       "     'tokenEnd': 5,\n",
       "     'text': 'she',\n",
       "     'characterOffsetBegin': 46,\n",
       "     'characterOffsetEnd': 49,\n",
       "     'ner': 'PERSON'}],\n",
       "   'tokens': [{'index': 1,\n",
       "     'word': 'She',\n",
       "     'originalText': 'She',\n",
       "     'lemma': 'she',\n",
       "     'characterOffsetBegin': 28,\n",
       "     'characterOffsetEnd': 31,\n",
       "     'pos': 'PRP',\n",
       "     'ner': 'O',\n",
       "     'before': ' ',\n",
       "     'after': ' '},\n",
       "    {'index': 2,\n",
       "     'word': 'told',\n",
       "     'originalText': 'told',\n",
       "     'lemma': 'tell',\n",
       "     'characterOffsetBegin': 32,\n",
       "     'characterOffsetEnd': 36,\n",
       "     'pos': 'VBD',\n",
       "     'ner': 'O',\n",
       "     'before': ' ',\n",
       "     'after': ' '},\n",
       "    {'index': 3,\n",
       "     'word': 'him',\n",
       "     'originalText': 'him',\n",
       "     'lemma': 'he',\n",
       "     'characterOffsetBegin': 37,\n",
       "     'characterOffsetEnd': 40,\n",
       "     'pos': 'PRP',\n",
       "     'ner': 'O',\n",
       "     'before': ' ',\n",
       "     'after': ' '},\n",
       "    {'index': 4,\n",
       "     'word': 'that',\n",
       "     'originalText': 'that',\n",
       "     'lemma': 'that',\n",
       "     'characterOffsetBegin': 41,\n",
       "     'characterOffsetEnd': 45,\n",
       "     'pos': 'IN',\n",
       "     'ner': 'O',\n",
       "     'before': ' ',\n",
       "     'after': ' '},\n",
       "    {'index': 5,\n",
       "     'word': 'she',\n",
       "     'originalText': 'she',\n",
       "     'lemma': 'she',\n",
       "     'characterOffsetBegin': 46,\n",
       "     'characterOffsetEnd': 49,\n",
       "     'pos': 'PRP',\n",
       "     'ner': 'O',\n",
       "     'before': ' ',\n",
       "     'after': ' '},\n",
       "    {'index': 6,\n",
       "     'word': 'is',\n",
       "     'originalText': 'is',\n",
       "     'lemma': 'be',\n",
       "     'characterOffsetBegin': 50,\n",
       "     'characterOffsetEnd': 52,\n",
       "     'pos': 'VBZ',\n",
       "     'ner': 'O',\n",
       "     'before': ' ',\n",
       "     'after': ' '},\n",
       "    {'index': 7,\n",
       "     'word': 'traveling',\n",
       "     'originalText': 'traveling',\n",
       "     'lemma': 'travel',\n",
       "     'characterOffsetBegin': 53,\n",
       "     'characterOffsetEnd': 62,\n",
       "     'pos': 'VBG',\n",
       "     'ner': 'O',\n",
       "     'before': ' ',\n",
       "     'after': ' '},\n",
       "    {'index': 8,\n",
       "     'word': 'to',\n",
       "     'originalText': 'to',\n",
       "     'lemma': 'to',\n",
       "     'characterOffsetBegin': 63,\n",
       "     'characterOffsetEnd': 65,\n",
       "     'pos': 'TO',\n",
       "     'ner': 'O',\n",
       "     'before': ' ',\n",
       "     'after': ' '},\n",
       "    {'index': 9,\n",
       "     'word': 'Europe',\n",
       "     'originalText': 'Europe',\n",
       "     'lemma': 'Europe',\n",
       "     'characterOffsetBegin': 66,\n",
       "     'characterOffsetEnd': 72,\n",
       "     'pos': 'NNP',\n",
       "     'ner': 'LOCATION',\n",
       "     'before': ' ',\n",
       "     'after': ' '},\n",
       "    {'index': 10,\n",
       "     'word': 'next',\n",
       "     'originalText': 'next',\n",
       "     'lemma': 'next',\n",
       "     'characterOffsetBegin': 73,\n",
       "     'characterOffsetEnd': 77,\n",
       "     'pos': 'IN',\n",
       "     'ner': 'DATE',\n",
       "     'normalizedNER': 'THIS P1W OFFSET P1W',\n",
       "     'before': ' ',\n",
       "     'after': ' ',\n",
       "     'timex': {'tid': 't1',\n",
       "      'type': 'DATE',\n",
       "      'altValue': 'THIS P1W OFFSET P1W'}},\n",
       "    {'index': 11,\n",
       "     'word': 'week',\n",
       "     'originalText': 'week',\n",
       "     'lemma': 'week',\n",
       "     'characterOffsetBegin': 78,\n",
       "     'characterOffsetEnd': 82,\n",
       "     'pos': 'NN',\n",
       "     'ner': 'DATE',\n",
       "     'normalizedNER': 'THIS P1W OFFSET P1W',\n",
       "     'before': ' ',\n",
       "     'after': '',\n",
       "     'timex': {'tid': 't1',\n",
       "      'type': 'DATE',\n",
       "      'altValue': 'THIS P1W OFFSET P1W'}},\n",
       "    {'index': 12,\n",
       "     'word': '.',\n",
       "     'originalText': '.',\n",
       "     'lemma': '.',\n",
       "     'characterOffsetBegin': 82,\n",
       "     'characterOffsetEnd': 83,\n",
       "     'pos': '.',\n",
       "     'ner': 'O',\n",
       "     'before': '',\n",
       "     'after': ''}]}]}"
      ]
     },
     "execution_count": 46,
     "metadata": {},
     "output_type": "execute_result"
    }
   ],
   "source": [
    "dpt = nlp.annotate(text, properties={'annotators': 'ner', 'outputFormat': 'json'})\n",
    "dpt"
   ]
  },
  {
   "cell_type": "markdown",
   "metadata": {},
   "source": [
    "## we take the first sentence：（John met Susan in the mall. ）for instance"
   ]
  },
  {
   "cell_type": "code",
   "execution_count": 47,
   "metadata": {},
   "outputs": [
    {
     "data": {
      "text/plain": [
       "{'index': 0,\n",
       " 'entitymentions': [{'docTokenBegin': 0,\n",
       "   'docTokenEnd': 1,\n",
       "   'tokenBegin': 0,\n",
       "   'tokenEnd': 1,\n",
       "   'text': 'John',\n",
       "   'characterOffsetBegin': 0,\n",
       "   'characterOffsetEnd': 4,\n",
       "   'ner': 'PERSON'},\n",
       "  {'docTokenBegin': 2,\n",
       "   'docTokenEnd': 3,\n",
       "   'tokenBegin': 2,\n",
       "   'tokenEnd': 3,\n",
       "   'text': 'Susan',\n",
       "   'characterOffsetBegin': 9,\n",
       "   'characterOffsetEnd': 14,\n",
       "   'ner': 'PERSON'}],\n",
       " 'tokens': [{'index': 1,\n",
       "   'word': 'John',\n",
       "   'originalText': 'John',\n",
       "   'lemma': 'John',\n",
       "   'characterOffsetBegin': 0,\n",
       "   'characterOffsetEnd': 4,\n",
       "   'pos': 'NNP',\n",
       "   'ner': 'PERSON',\n",
       "   'before': '',\n",
       "   'after': ' '},\n",
       "  {'index': 2,\n",
       "   'word': 'met',\n",
       "   'originalText': 'met',\n",
       "   'lemma': 'meet',\n",
       "   'characterOffsetBegin': 5,\n",
       "   'characterOffsetEnd': 8,\n",
       "   'pos': 'VBD',\n",
       "   'ner': 'O',\n",
       "   'before': ' ',\n",
       "   'after': ' '},\n",
       "  {'index': 3,\n",
       "   'word': 'Susan',\n",
       "   'originalText': 'Susan',\n",
       "   'lemma': 'Susan',\n",
       "   'characterOffsetBegin': 9,\n",
       "   'characterOffsetEnd': 14,\n",
       "   'pos': 'NNP',\n",
       "   'ner': 'PERSON',\n",
       "   'before': ' ',\n",
       "   'after': ' '},\n",
       "  {'index': 4,\n",
       "   'word': 'in',\n",
       "   'originalText': 'in',\n",
       "   'lemma': 'in',\n",
       "   'characterOffsetBegin': 15,\n",
       "   'characterOffsetEnd': 17,\n",
       "   'pos': 'IN',\n",
       "   'ner': 'O',\n",
       "   'before': ' ',\n",
       "   'after': ' '},\n",
       "  {'index': 5,\n",
       "   'word': 'the',\n",
       "   'originalText': 'the',\n",
       "   'lemma': 'the',\n",
       "   'characterOffsetBegin': 18,\n",
       "   'characterOffsetEnd': 21,\n",
       "   'pos': 'DT',\n",
       "   'ner': 'O',\n",
       "   'before': ' ',\n",
       "   'after': ' '},\n",
       "  {'index': 6,\n",
       "   'word': 'mall',\n",
       "   'originalText': 'mall',\n",
       "   'lemma': 'mall',\n",
       "   'characterOffsetBegin': 22,\n",
       "   'characterOffsetEnd': 26,\n",
       "   'pos': 'NN',\n",
       "   'ner': 'O',\n",
       "   'before': ' ',\n",
       "   'after': ''},\n",
       "  {'index': 7,\n",
       "   'word': '.',\n",
       "   'originalText': '.',\n",
       "   'lemma': '.',\n",
       "   'characterOffsetBegin': 26,\n",
       "   'characterOffsetEnd': 27,\n",
       "   'pos': '.',\n",
       "   'ner': 'O',\n",
       "   'before': '',\n",
       "   'after': ' '}]}"
      ]
     },
     "execution_count": 47,
     "metadata": {},
     "output_type": "execute_result"
    }
   ],
   "source": [
    "dpt=dpt['sentences'][0]\n",
    "dpt"
   ]
  },
  {
   "cell_type": "markdown",
   "metadata": {},
   "source": [
    "How many tokens do we have?"
   ]
  },
  {
   "cell_type": "code",
   "execution_count": 57,
   "metadata": {},
   "outputs": [
    {
     "data": {
      "text/plain": [
       "7"
      ]
     },
     "execution_count": 57,
     "metadata": {},
     "output_type": "execute_result"
    }
   ],
   "source": [
    "len(dpt['tokens'])"
   ]
  },
  {
   "cell_type": "code",
   "execution_count": 52,
   "metadata": {},
   "outputs": [],
   "source": [
    "l=[]\n",
    "len(dpt['tokens'])\n",
    "for i in range(len(dpt['tokens'])):\n",
    "    l.append(dpt['tokens'][i]['pos'])\n"
   ]
  },
  {
   "cell_type": "markdown",
   "metadata": {},
   "source": [
    "NER for each token in the sentence"
   ]
  },
  {
   "cell_type": "code",
   "execution_count": 53,
   "metadata": {},
   "outputs": [
    {
     "data": {
      "text/plain": [
       "['NNP', 'VBD', 'NNP', 'IN', 'DT', 'NN', '.']"
      ]
     },
     "execution_count": 53,
     "metadata": {},
     "output_type": "execute_result"
    }
   ],
   "source": [
    "l"
   ]
  },
  {
   "cell_type": "code",
   "execution_count": 54,
   "metadata": {},
   "outputs": [],
   "source": [
    "#build the vocabulary\n",
    "poslist = set([pos for pos in l])"
   ]
  },
  {
   "cell_type": "code",
   "execution_count": 55,
   "metadata": {},
   "outputs": [
    {
     "data": {
      "text/plain": [
       "{'.', 'DT', 'IN', 'NN', 'NNP', 'VBD'}"
      ]
     },
     "execution_count": 55,
     "metadata": {},
     "output_type": "execute_result"
    }
   ],
   "source": [
    "poslist"
   ]
  },
  {
   "cell_type": "code",
   "execution_count": null,
   "metadata": {},
   "outputs": [],
   "source": [
    "for i in range(len(dpt['tokens'])):\n",
    "    l.append(dpt['tokens'][i]['pos'])"
   ]
  },
  {
   "cell_type": "code",
   "execution_count": 59,
   "metadata": {},
   "outputs": [
    {
     "name": "stdout",
     "output_type": "stream",
     "text": [
      "{'NNP': 2, 'VBD': 1, 'IN': 3, 'DT': 4, 'NN': 5, '.': 6}\n"
     ]
    }
   ],
   "source": [
    "#dictionary for the ner\n",
    "voc = {v:num for num, v in enumerate(l)}\n",
    "print(t_dic)"
   ]
  },
  {
   "cell_type": "markdown",
   "metadata": {},
   "source": [
    "## Numpy array for store"
   ]
  },
  {
   "cell_type": "code",
   "execution_count": 61,
   "metadata": {},
   "outputs": [
    {
     "name": "stdout",
     "output_type": "stream",
     "text": [
      "[2 1 2 3 4 5 6]\n"
     ]
    }
   ],
   "source": [
    "#transfer it to numpy array\n",
    "print(np.array([voc[t] for t in l]))"
   ]
  },
  {
   "cell_type": "code",
   "execution_count": null,
   "metadata": {},
   "outputs": [],
   "source": []
  }
 ],
 "metadata": {
  "kernelspec": {
   "display_name": "Python 3",
   "language": "python",
   "name": "python3"
  },
  "language_info": {
   "codemirror_mode": {
    "name": "ipython",
    "version": 3
   },
   "file_extension": ".py",
   "mimetype": "text/x-python",
   "name": "python",
   "nbconvert_exporter": "python",
   "pygments_lexer": "ipython3",
   "version": "3.6.8"
  }
 },
 "nbformat": 4,
 "nbformat_minor": 2
}
